{
 "cells": [
  {
   "cell_type": "code",
   "execution_count": 10,
   "id": "3d3a06be-e046-4af3-8e9c-9a7d674613f3",
   "metadata": {},
   "outputs": [
    {
     "name": "stdout",
     "output_type": "stream",
     "text": [
      "<class 'pandas.core.frame.DataFrame'>\n",
      "Index: 8632 entries, 0 to 9993\n",
      "Data columns (total 21 columns):\n",
      " #   Column         Non-Null Count  Dtype         \n",
      "---  ------         --------------  -----         \n",
      " 0   Row ID         8632 non-null   int64         \n",
      " 1   Order ID       8632 non-null   object        \n",
      " 2   Order Date     8632 non-null   datetime64[ns]\n",
      " 3   Ship Date      8632 non-null   datetime64[ns]\n",
      " 4   Ship Mode      8632 non-null   object        \n",
      " 5   Customer ID    8632 non-null   object        \n",
      " 6   Customer Name  8632 non-null   object        \n",
      " 7   Segment        8632 non-null   object        \n",
      " 8   Country        8632 non-null   object        \n",
      " 9   City           8632 non-null   object        \n",
      " 10  State          8632 non-null   object        \n",
      " 11  Postal Code    8632 non-null   int64         \n",
      " 12  Region         8632 non-null   object        \n",
      " 13  Product ID     8632 non-null   object        \n",
      " 14  Category       8632 non-null   object        \n",
      " 15  Sub-Category   8632 non-null   object        \n",
      " 16  Product Name   8632 non-null   object        \n",
      " 17  Sales          8632 non-null   float64       \n",
      " 18  Quantity       8632 non-null   int64         \n",
      " 19  Discount       8632 non-null   float64       \n",
      " 20  Profit         8632 non-null   float64       \n",
      "dtypes: datetime64[ns](2), float64(3), int64(3), object(13)\n",
      "memory usage: 1.4+ MB\n",
      "None\n"
     ]
    }
   ],
   "source": [
    "import pandas as pd\n",
    "import datetime\n",
    "df = pd.read_csv(\"C:\\\\Users\\\\sahil\\\\Downloads\\\\SalesProject.csv\", encoding = 'latin-1')\n",
    "# print(df.head(20))\n",
    "\n",
    "# Check the missing values\n",
    "# print(df.isnull().sum())\n",
    "\n",
    "# remove duplicates\n",
    "df = df.drop_duplicates()\n",
    "\n",
    "# print(df.info())\n",
    "\n",
    "# print(df.describe())\n",
    "# Conert datatype to date\n",
    "df['Order Date'] = pd.to_datetime(df['Order Date'])\n",
    "df['Ship Date'] = pd.to_datetime(df['Ship Date'])\n",
    "\n",
    "# Handle Outliers - Some data is too big or too small.\n",
    "df = df[(df['Sales']>10) & (df['Sales']<100000)]\n",
    "df.to_csv(\"C:\\\\Users\\\\sahil\\\\Downloads\\\\SalesProjectNew.csv\",index = False)\n",
    "print(df.info())\n"
   ]
  }
 ],
 "metadata": {
  "kernelspec": {
   "display_name": "Python [conda env:base] *",
   "language": "python",
   "name": "conda-base-py"
  },
  "language_info": {
   "codemirror_mode": {
    "name": "ipython",
    "version": 3
   },
   "file_extension": ".py",
   "mimetype": "text/x-python",
   "name": "python",
   "nbconvert_exporter": "python",
   "pygments_lexer": "ipython3",
   "version": "3.12.7"
  }
 },
 "nbformat": 4,
 "nbformat_minor": 5
}
